{
 "cells": [
  {
   "cell_type": "markdown",
   "id": "fc49a50b",
   "metadata": {},
   "source": [
    "Question 1"
   ]
  },
  {
   "cell_type": "code",
   "execution_count": 17,
   "id": "47043fd7",
   "metadata": {},
   "outputs": [
    {
     "name": "stdout",
     "output_type": "stream",
     "text": [
      "[11, 12, 13, 14, 50, 60]\n"
     ]
    }
   ],
   "source": [
    "# i\n",
    "L = [11,12,13,14]\n",
    "add = [50,60]\n",
    "L.extend(add)\n",
    "print(L)"
   ]
  },
  {
   "cell_type": "code",
   "execution_count": 18,
   "id": "7cb1a47d",
   "metadata": {},
   "outputs": [
    {
     "name": "stdout",
     "output_type": "stream",
     "text": [
      "[12, 14]\n"
     ]
    }
   ],
   "source": [
    "# ii \n",
    "L = [11,12,13,14]\n",
    "L.remove(11)\n",
    "L.remove(13)\n",
    "print(L)"
   ]
  },
  {
   "cell_type": "code",
   "execution_count": 21,
   "id": "59660a5d",
   "metadata": {},
   "outputs": [
    {
     "name": "stdout",
     "output_type": "stream",
     "text": [
      "[11, 12, 13, 14]\n"
     ]
    }
   ],
   "source": [
    "# iii\n",
    "L = [11,12,14,13]\n",
    "L.sort()\n",
    "print(L)"
   ]
  },
  {
   "cell_type": "code",
   "execution_count": 22,
   "id": "d0ccc00a",
   "metadata": {},
   "outputs": [
    {
     "name": "stdout",
     "output_type": "stream",
     "text": [
      "[14, 13, 12, 11]\n"
     ]
    }
   ],
   "source": [
    "#iv\n",
    "L = [11,12,13,14]\n",
    "L.sort(reverse = True)\n",
    "print(L)"
   ]
  },
  {
   "cell_type": "code",
   "execution_count": 27,
   "id": "fd0efe1d",
   "metadata": {},
   "outputs": [
    {
     "name": "stdout",
     "output_type": "stream",
     "text": [
      "13 is at 2 nd index\n"
     ]
    }
   ],
   "source": [
    "# v\n",
    "L = [11,12,13,14]\n",
    "index = L.index(13)\n",
    "print(\"13 is at\",index,\"nd index\")"
   ]
  },
  {
   "cell_type": "code",
   "execution_count": 28,
   "id": "da168e89",
   "metadata": {},
   "outputs": [
    {
     "name": "stdout",
     "output_type": "stream",
     "text": [
      "4\n"
     ]
    }
   ],
   "source": [
    "# vi\n",
    "L = [11,12,13,14]\n",
    "print(len(L))"
   ]
  },
  {
   "cell_type": "code",
   "execution_count": 29,
   "id": "e254d809",
   "metadata": {},
   "outputs": [
    {
     "name": "stdout",
     "output_type": "stream",
     "text": [
      "50\n"
     ]
    }
   ],
   "source": [
    "# vii\n",
    "L = [11,12,13,14]\n",
    "print(sum(L))"
   ]
  },
  {
   "cell_type": "code",
   "execution_count": 36,
   "id": "74a0594f",
   "metadata": {},
   "outputs": [
    {
     "name": "stdout",
     "output_type": "stream",
     "text": [
      "24\n"
     ]
    }
   ],
   "source": [
    "# viii\n",
    "sum = 0\n",
    "for i in L:\n",
    "    if i % 2 != 0:\n",
    "        sum += i\n",
    "print(sum)"
   ]
  },
  {
   "cell_type": "code",
   "execution_count": 41,
   "id": "09843dcf",
   "metadata": {},
   "outputs": [
    {
     "name": "stdout",
     "output_type": "stream",
     "text": [
      "26\n"
     ]
    }
   ],
   "source": [
    "# ix\n",
    "L = [11,12,13,14]\n",
    "sum = 0\n",
    "for i in L:\n",
    "    if i % 2 == 0:\n",
    "        sum += i\n",
    "print(sum)"
   ]
  },
  {
   "cell_type": "code",
   "execution_count": 51,
   "id": "59fd24e8",
   "metadata": {},
   "outputs": [
    {
     "name": "stdout",
     "output_type": "stream",
     "text": [
      "Sum: 24\n"
     ]
    }
   ],
   "source": [
    "# x\n",
    "def primee(num):\n",
    "    if num <= 1:\n",
    "        return False\n",
    "    for i in range(2, int(num**0.5) + 1):\n",
    "        if num % i == 0:\n",
    "            return False\n",
    "    return True\n",
    "\n",
    "def summ(numbers):\n",
    "    prime_sum = 0\n",
    "    for num in numbers:\n",
    "        if primee(num):\n",
    "            prime_sum += num\n",
    "    return prime_sum\n",
    "\n",
    "L = [11, 12, 13, 14]\n",
    "prime_sum = summ(L)\n",
    "print(\"Sum:\", prime_sum)\n"
   ]
  },
  {
   "cell_type": "code",
   "execution_count": 52,
   "id": "7e249e4e",
   "metadata": {},
   "outputs": [
    {
     "name": "stdout",
     "output_type": "stream",
     "text": [
      "[]\n"
     ]
    }
   ],
   "source": [
    "# xi\n",
    "L.clear()\n",
    "print(L)"
   ]
  },
  {
   "cell_type": "code",
   "execution_count": 56,
   "id": "89bb9c3f",
   "metadata": {},
   "outputs": [],
   "source": [
    "# xii\n",
    "L = [11,12,13,14]\n",
    "del L\n",
    "# print(L) WIll give name error"
   ]
  },
  {
   "cell_type": "markdown",
   "id": "e3958184",
   "metadata": {},
   "source": [
    "Question 2"
   ]
  },
  {
   "cell_type": "code",
   "execution_count": 57,
   "id": "92a31034",
   "metadata": {},
   "outputs": [],
   "source": [
    "D = {1:5.6,2:7.8,3:6.6,4:8.7,5:7.7}"
   ]
  },
  {
   "cell_type": "code",
   "execution_count": 58,
   "id": "a1191fe2",
   "metadata": {},
   "outputs": [
    {
     "name": "stdout",
     "output_type": "stream",
     "text": [
      "{1: 5.6, 2: 7.8, 3: 6.6, 4: 8.7, 5: 7.7, 8: 8.8}\n"
     ]
    }
   ],
   "source": [
    "# i\n",
    "D[8] = 8.8\n",
    "print(D)"
   ]
  },
  {
   "cell_type": "code",
   "execution_count": 61,
   "id": "17169b8d",
   "metadata": {},
   "outputs": [
    {
     "name": "stdout",
     "output_type": "stream",
     "text": [
      "{1: 5.6, 3: 6.6, 4: 8.7, 5: 7.7, 8: 8.8}\n"
     ]
    }
   ],
   "source": [
    "# ii\n",
    "D.pop(2)\n",
    "print(D)"
   ]
  },
  {
   "cell_type": "code",
   "execution_count": 62,
   "id": "e4b1d430",
   "metadata": {},
   "outputs": [
    {
     "name": "stdout",
     "output_type": "stream",
     "text": [
      "no\n"
     ]
    }
   ],
   "source": [
    "# iii\n",
    "if (6) in D:\n",
    "    print(\"Yes\")\n",
    "else:\n",
    "    print(\"no\")"
   ]
  },
  {
   "cell_type": "code",
   "execution_count": 65,
   "id": "08539536",
   "metadata": {},
   "outputs": [
    {
     "name": "stdout",
     "output_type": "stream",
     "text": [
      "5 Elements\n"
     ]
    }
   ],
   "source": [
    "# iv\n",
    "print(len(D),\"Elements\")"
   ]
  },
  {
   "cell_type": "code",
   "execution_count": 77,
   "id": "5384a00f",
   "metadata": {},
   "outputs": [
    {
     "name": "stdout",
     "output_type": "stream",
     "text": [
      "36.4\n"
     ]
    }
   ],
   "source": [
    "# v\n",
    "D = {1:5.6,2:7.8,3:6.6,4:8.7,5:7.7}\n",
    "sum = 0\n",
    "for value in D.values():\n",
    "    sum += value\n",
    "print(sum)"
   ]
  },
  {
   "cell_type": "code",
   "execution_count": 76,
   "id": "c6f3314d",
   "metadata": {},
   "outputs": [
    {
     "name": "stdout",
     "output_type": "stream",
     "text": [
      "{1: 5.6, 2: 7.8, 3: 7.1, 4: 8.7, 5: 7.7}\n"
     ]
    }
   ],
   "source": [
    "# vi\n",
    "D[3] = 7.1\n",
    "print(D)"
   ]
  },
  {
   "cell_type": "code",
   "execution_count": 78,
   "id": "793ad4c1",
   "metadata": {},
   "outputs": [
    {
     "name": "stdout",
     "output_type": "stream",
     "text": [
      "{}\n"
     ]
    }
   ],
   "source": [
    "# vii\n",
    "D.clear()\n",
    "print(D)"
   ]
  },
  {
   "cell_type": "markdown",
   "id": "119a6a82",
   "metadata": {},
   "source": [
    "Question 3"
   ]
  },
  {
   "cell_type": "code",
   "execution_count": 79,
   "id": "9f85c065",
   "metadata": {},
   "outputs": [],
   "source": [
    "S1 = set([10,20,30,40,50,60])\n",
    "S2 = set([40,50,60,70,80,90])\n"
   ]
  },
  {
   "cell_type": "code",
   "execution_count": 82,
   "id": "b7d68d0a",
   "metadata": {},
   "outputs": [
    {
     "name": "stdout",
     "output_type": "stream",
     "text": [
      "{66, 40, 10, 50, 20, 55, 60, 30}\n"
     ]
    }
   ],
   "source": [
    "# 1\n",
    "S1.add(55)\n",
    "S1.add(66)\n",
    "print(S1)"
   ]
  },
  {
   "cell_type": "code",
   "execution_count": 83,
   "id": "605a8f4c",
   "metadata": {},
   "outputs": [
    {
     "name": "stdout",
     "output_type": "stream",
     "text": [
      "{66, 40, 50, 20, 55, 60}\n"
     ]
    }
   ],
   "source": [
    "# ii\n",
    "S1.remove(10)\n",
    "S1.remove(30)\n",
    "print(S1)"
   ]
  },
  {
   "cell_type": "code",
   "execution_count": 84,
   "id": "4a4400aa",
   "metadata": {},
   "outputs": [
    {
     "name": "stdout",
     "output_type": "stream",
     "text": [
      "Yes\n"
     ]
    }
   ],
   "source": [
    "# iii\n",
    "if 40 in S1:\n",
    "    print(\"Yes\")\n",
    "else:\n",
    "    print(\"No\")"
   ]
  },
  {
   "cell_type": "code",
   "execution_count": 85,
   "id": "20d8d434",
   "metadata": {},
   "outputs": [
    {
     "name": "stdout",
     "output_type": "stream",
     "text": [
      "{66, 70, 40, 80, 50, 20, 55, 90, 60}\n"
     ]
    }
   ],
   "source": [
    "# iv \n",
    "union_set = S1.union(S2)\n",
    "print(union_set)"
   ]
  },
  {
   "cell_type": "code",
   "execution_count": 88,
   "id": "d5256180",
   "metadata": {},
   "outputs": [
    {
     "name": "stdout",
     "output_type": "stream",
     "text": [
      "{66, 40, 50, 20, 55, 60}\n",
      "{70, 40, 80, 50, 90, 60}\n",
      "{40, 50, 60}\n"
     ]
    }
   ],
   "source": [
    "# v\n",
    "print(S1)\n",
    "print(S2)\n",
    "intersect = S1 & S2\n",
    "print(intersect)"
   ]
  },
  {
   "cell_type": "code",
   "execution_count": 89,
   "id": "66c27a08",
   "metadata": {},
   "outputs": [
    {
     "name": "stdout",
     "output_type": "stream",
     "text": [
      "{66, 20, 55}\n"
     ]
    }
   ],
   "source": [
    "# vi\n",
    "subs = S1-S2\n",
    "print(subs)"
   ]
  },
  {
   "cell_type": "markdown",
   "id": "3cad1afb",
   "metadata": {},
   "source": [
    "Question 4"
   ]
  },
  {
   "cell_type": "code",
   "execution_count": 90,
   "id": "d7fe4bba",
   "metadata": {},
   "outputs": [],
   "source": [
    "import random as r\n"
   ]
  },
  {
   "cell_type": "code",
   "execution_count": 21,
   "id": "97ee0d6d",
   "metadata": {},
   "outputs": [
    {
     "name": "stdout",
     "output_type": "stream",
     "text": [
      "Oolhddelz\n",
      "TBAwYeFPv\n",
      "vCtBhBI\n",
      "NOOKieJ\n",
      "EfSbhGOkP\n",
      "YAEuoZtm\n",
      "AIhuisAvq\n",
      "RvbSwK\n",
      "EXkaQZqLo\n",
      "hOMyCv\n",
      "PeAidtXLs\n",
      "mVMUZPdzz\n",
      "MPrDAVsj\n",
      "ZKkCNJwXk\n",
      "UnwhQnG\n",
      "DcLLttDpD\n",
      "inYMVd\n",
      "CvXpTg\n",
      "VGHWstLvI\n",
      "KqBRALp\n",
      "jQBGjt\n",
      "bfREFkXu\n",
      "HvhrjoF\n",
      "uUVkhOBGk\n",
      "MgAMyVCKg\n",
      "uvqFHG\n",
      "IZhULruyq\n",
      "fBCsJQkD\n",
      "pXTxdFl\n",
      "sixIsY\n",
      "rrgqvKQm\n",
      "dZWSLTc\n",
      "dshVTsHH\n",
      "RPLSyfa\n",
      "ClEovxG\n",
      "SCwUFYrWg\n",
      "eWiGOYyf\n",
      "dyBXDNVQL\n",
      "earfhUFAV\n",
      "TfOgLY\n",
      "ChiFgdR\n",
      "kFfsYCg\n",
      "DuogCSg\n",
      "ViNeiU\n",
      "oXjjpfpoW\n",
      "JsSBOF\n",
      "inRlSDnym\n",
      "pRLHEvL\n",
      "owahnShx\n",
      "GLZgvYwMr\n",
      "RsqodrYFd\n",
      "yFNUyPz\n",
      "jVhccKBB\n",
      "OdKcgHJT\n",
      "NzwdweT\n",
      "qKOZxix\n",
      "ZYOolTGjl\n",
      "NeHzdpZk\n",
      "WEoWzzcU\n",
      "zRpwjaSfb\n",
      "WFWKUy\n",
      "ytBwYGpxI\n",
      "efVHDNf\n",
      "PNIkbTKQ\n",
      "gXlcbm\n",
      "wojoycO\n",
      "DgtTUOlH\n",
      "ELSuYQy\n",
      "RwfGHcOW\n",
      "BHMdEPjI\n",
      "DnVXUfD\n",
      "qOpzqhi\n",
      "WLnonm\n",
      "nqlMpM\n",
      "AOAtBx\n",
      "EzKOqyKd\n",
      "AHtAXNK\n",
      "aYXmMKs\n",
      "biHfZGPRF\n",
      "Afsxnxe\n",
      "swHHXQByd\n",
      "WsiaOiyMu\n",
      "AhUsLfrVq\n",
      "zoYJGF\n",
      "ZrmjGq\n",
      "zQUFbo\n",
      "BNPdvLZC\n",
      "JwofKMFRW\n",
      "acAsMDHV\n",
      "nWAJITH\n",
      "XLZLbT\n",
      "qEsJQHBva\n",
      "lkZIsi\n",
      "hhsrSpGE\n",
      "rxOpICCmw\n",
      "roLnfnFm\n",
      "DUAVvOq\n",
      "pTGzscUdF\n",
      "YWGlRo\n",
      "aPSGfIl\n"
     ]
    }
   ],
   "source": [
    "# i\n",
    "import string as s\n",
    "import random\n",
    "\n",
    "def rangeof():\n",
    "    return random.randint(6, 9)\n",
    "\n",
    "for i in range(100):\n",
    "    new = s.ascii_letters\n",
    "    randomstring = ''.join(random.choices(new, k=rangeof()))\n",
    "    print(randomstring)"
   ]
  },
  {
   "cell_type": "code",
   "execution_count": 93,
   "id": "a9807df8",
   "metadata": {},
   "outputs": [
    {
     "name": "stdout",
     "output_type": "stream",
     "text": [
      "601\n",
      "607\n",
      "613\n",
      "617\n",
      "619\n",
      "631\n",
      "641\n",
      "643\n",
      "647\n",
      "653\n",
      "659\n",
      "661\n",
      "673\n",
      "677\n",
      "683\n",
      "691\n",
      "701\n",
      "709\n",
      "719\n",
      "727\n",
      "733\n",
      "739\n",
      "743\n",
      "751\n",
      "757\n",
      "761\n",
      "769\n",
      "773\n",
      "787\n",
      "797\n"
     ]
    }
   ],
   "source": [
    "# ii \n",
    "def primee(num):\n",
    "    if num <= 1:\n",
    "        return False\n",
    "    for i in range(2, int(num**0.5) + 1):\n",
    "        if num % i == 0:\n",
    "            return False\n",
    "    return True\n",
    "\n",
    "for number in range(600, 801):\n",
    "    if primee(number):\n",
    "        print(number)\n"
   ]
  },
  {
   "cell_type": "code",
   "execution_count": 95,
   "id": "b65f4b51",
   "metadata": {},
   "outputs": [
    {
     "name": "stdout",
     "output_type": "stream",
     "text": [
      "112\n",
      "168\n",
      "224\n",
      "280\n",
      "336\n",
      "392\n",
      "448\n",
      "504\n",
      "560\n",
      "616\n",
      "672\n",
      "728\n",
      "784\n",
      "840\n",
      "896\n",
      "952\n"
     ]
    }
   ],
   "source": [
    "# iii\n",
    "for num in range(100,1000):\n",
    "    if(num%7 == 0 and num%8 == 0):\n",
    "        print(num)"
   ]
  },
  {
   "cell_type": "markdown",
   "id": "bbad452f",
   "metadata": {},
   "source": [
    "Question 5"
   ]
  },
  {
   "cell_type": "code",
   "execution_count": 135,
   "id": "c1ca705b",
   "metadata": {},
   "outputs": [
    {
     "name": "stdout",
     "output_type": "stream",
     "text": [
      "[11, 13, 11, 19, 11, 28, 21, 14, 24, 17]\n",
      "[12, 23, 27, 30, 14, 18, 19, 25, 24, 14]\n"
     ]
    }
   ],
   "source": [
    "list1 = []\n",
    "for i in range(10):\n",
    "    i = r.randint(10,30)\n",
    "    list1.append(i)\n",
    "list2 = []\n",
    "for j in range(10):\n",
    "    j = r.randint(10,30)\n",
    "    list2.append(j)\n",
    "print(list1)\n",
    "print(list2)"
   ]
  },
  {
   "cell_type": "code",
   "execution_count": 136,
   "id": "ad0e6922",
   "metadata": {},
   "outputs": [
    {
     "name": "stdout",
     "output_type": "stream",
     "text": [
      "Common elements are  [19, 14, 24]\n"
     ]
    }
   ],
   "source": [
    "# i \n",
    "common = [element for element in list1 if element in list2]\n",
    "print(\"Common elements are \",common)"
   ]
  },
  {
   "cell_type": "code",
   "execution_count": 137,
   "id": "b56f5254",
   "metadata": {},
   "outputs": [
    {
     "name": "stdout",
     "output_type": "stream",
     "text": [
      "Unique elements in the list are {11, 12, 13, 17, 18, 21, 23, 25, 27, 28, 30}\n"
     ]
    }
   ],
   "source": [
    "# ii\n",
    "common = set(list1) & set(list2)\n",
    "unique = set(list1 + list2) - common\n",
    "print(\"Unique elements in the list are\",unique)"
   ]
  },
  {
   "cell_type": "code",
   "execution_count": 138,
   "id": "8ebf11e5",
   "metadata": {},
   "outputs": [
    {
     "name": "stdout",
     "output_type": "stream",
     "text": [
      "Minimum element in list 1 is 11\n",
      "Minimum element in list 2 is 12\n"
     ]
    }
   ],
   "source": [
    "# iii\n",
    "print(\"Minimum element in list 1 is\",min(list1))\n",
    "print(\"Minimum element in list 2 is\",min(list2))"
   ]
  },
  {
   "cell_type": "code",
   "execution_count": 139,
   "id": "b20cd6d6",
   "metadata": {},
   "outputs": [
    {
     "name": "stdout",
     "output_type": "stream",
     "text": [
      "Maximum element in list 1 is 28\n",
      "Maximum element in list 2 is 30\n"
     ]
    }
   ],
   "source": [
    "#iv\n",
    "print(\"Maximum element in list 1 is\",max(list1))\n",
    "print(\"Maximum element in list 2 is\",max(list2))"
   ]
  },
  {
   "cell_type": "code",
   "execution_count": 146,
   "id": "70b56308",
   "metadata": {},
   "outputs": [
    {
     "name": "stdout",
     "output_type": "stream",
     "text": [
      "Sum of list 1 is 169\n",
      "Sum of list 2 is 206\n"
     ]
    }
   ],
   "source": [
    "#v \n",
    "total = 0\n",
    "for element in range(0, len(list1)):\n",
    "    total += list1[element]\n",
    "print(\"Sum of list 1 is\",total)\n",
    "\n",
    "total2 = 0\n",
    "for element in range(0, len(list2)):\n",
    "    total2 += list2[element]\n",
    "print(\"Sum of list 2 is\",total2)"
   ]
  },
  {
   "cell_type": "markdown",
   "id": "22fa76ed",
   "metadata": {},
   "source": [
    "Question 6"
   ]
  },
  {
   "cell_type": "code",
   "execution_count": 152,
   "id": "19a7b141",
   "metadata": {},
   "outputs": [
    {
     "name": "stdout",
     "output_type": "stream",
     "text": [
      "[452, 604, 620, 231, 779, 773, 466, 376, 694, 484, 148, 680, 128, 101, 287, 620, 132, 189, 416, 531, 837, 752, 296, 722, 858, 513, 753, 317, 496, 711, 268, 342, 807, 189, 484, 265, 198, 828, 127, 614, 174, 507, 542, 256, 363, 218, 352, 336, 873, 785, 421, 150, 612, 343, 487, 227, 434, 624, 755, 290, 620, 892, 646, 596, 435, 666, 172, 404, 769, 130, 765, 597, 561, 695, 370, 701, 713, 653, 511, 234, 208, 772, 457, 856, 202, 672, 133, 678, 269, 796, 454, 122, 406, 897, 838, 375, 739, 159, 376, 647]\n"
     ]
    }
   ],
   "source": [
    "mylist = []\n",
    "for i in range(100):\n",
    "    i = r.randint(100,900)\n",
    "    mylist.append(i)\n",
    "print(mylist)"
   ]
  },
  {
   "cell_type": "code",
   "execution_count": 156,
   "id": "d54fb5d3",
   "metadata": {},
   "outputs": [
    {
     "name": "stdout",
     "output_type": "stream",
     "text": [
      "231\n",
      "779\n",
      "773\n",
      "101\n",
      "287\n",
      "189\n",
      "531\n",
      "837\n",
      "513\n",
      "753\n",
      "317\n",
      "711\n",
      "807\n",
      "189\n",
      "265\n",
      "127\n",
      "507\n",
      "363\n",
      "873\n",
      "785\n",
      "421\n",
      "343\n",
      "487\n",
      "227\n",
      "755\n",
      "435\n",
      "769\n",
      "765\n",
      "597\n",
      "561\n",
      "695\n",
      "701\n",
      "713\n",
      "653\n",
      "511\n",
      "457\n",
      "133\n",
      "269\n",
      "897\n",
      "375\n",
      "739\n",
      "159\n",
      "647\n"
     ]
    }
   ],
   "source": [
    "# i\n",
    "for element in mylist:\n",
    "    if element % 2 != 0:\n",
    "        print(element)"
   ]
  },
  {
   "cell_type": "code",
   "execution_count": 157,
   "id": "c7f45c45",
   "metadata": {},
   "outputs": [
    {
     "name": "stdout",
     "output_type": "stream",
     "text": [
      "452\n",
      "604\n",
      "620\n",
      "466\n",
      "376\n",
      "694\n",
      "484\n",
      "148\n",
      "680\n",
      "128\n",
      "620\n",
      "132\n",
      "416\n",
      "752\n",
      "296\n",
      "722\n",
      "858\n",
      "496\n",
      "268\n",
      "342\n",
      "484\n",
      "198\n",
      "828\n",
      "614\n",
      "174\n",
      "542\n",
      "256\n",
      "218\n",
      "352\n",
      "336\n",
      "150\n",
      "612\n",
      "434\n",
      "624\n",
      "290\n",
      "620\n",
      "892\n",
      "646\n",
      "596\n",
      "666\n",
      "172\n",
      "404\n",
      "130\n",
      "370\n",
      "234\n",
      "208\n",
      "772\n",
      "856\n",
      "202\n",
      "672\n",
      "678\n",
      "796\n",
      "454\n",
      "122\n",
      "406\n",
      "838\n",
      "376\n"
     ]
    }
   ],
   "source": [
    "# ii\n",
    "for element in mylist:\n",
    "    if element % 2 == 0:\n",
    "        print(element)"
   ]
  },
  {
   "cell_type": "code",
   "execution_count": 163,
   "id": "b6294423",
   "metadata": {
    "scrolled": true
   },
   "outputs": [
    {
     "name": "stdout",
     "output_type": "stream",
     "text": [
      "773\n",
      "101\n",
      "317\n",
      "127\n",
      "421\n",
      "487\n",
      "227\n",
      "769\n",
      "701\n",
      "653\n",
      "457\n",
      "269\n",
      "739\n",
      "647\n"
     ]
    }
   ],
   "source": [
    "# iii\n",
    "def primee(num):\n",
    "    if num <= 1:\n",
    "        return False\n",
    "    for i in range(2, int(num**0.5) + 1):\n",
    "        if num % i == 0:\n",
    "            return False\n",
    "    return True\n",
    "for num in mylist:\n",
    "    if primee(num):\n",
    "        print(num)"
   ]
  },
  {
   "cell_type": "code",
   "execution_count": 1,
   "id": "955ada5f",
   "metadata": {},
   "outputs": [
    {
     "name": "stdout",
     "output_type": "stream",
     "text": [
      "1 One\n",
      "\n",
      "2 Two\n",
      "\n",
      "3 Three\n",
      "\n",
      "4 Four\n",
      "\n",
      "5 Five\n",
      "\n"
     ]
    }
   ],
   "source": [
    "# Question 7\n",
    "#creating dictionary\n",
    "D={1:\"One\",2:\"Two\",3:\"Three\",4:\"Four\",5:\"Five\"}\n",
    "\n",
    "#Writing to the file\n",
    "f = open(\"demofile.txt\", \"w\")\n",
    "for key in D:\n",
    "    f.write(str(key)+\" \")\n",
    "    f.write(str(D[key])+\"\\n\")\n",
    "f.close()\n",
    "\n",
    "#open and read the file:\n",
    "f = open(\"demofile.txt\", \"r\")\n",
    "for line in (f.readlines()):\n",
    "    print(line)\n",
    "f.close()"
   ]
  },
  {
   "cell_type": "markdown",
   "id": "71c36f7a",
   "metadata": {},
   "source": [
    "Question 8"
   ]
  },
  {
   "cell_type": "code",
   "execution_count": 22,
   "id": "11469a19",
   "metadata": {},
   "outputs": [
    {
     "name": "stdout",
     "output_type": "stream",
     "text": [
      "One,3\n",
      "\n",
      "Two,3\n",
      "\n",
      "Three,5\n",
      "\n",
      "Four,4\n",
      "\n",
      "Five,4\n",
      "\n"
     ]
    }
   ],
   "source": [
    "#List Creation\n",
    "L=[\"One\",\"Two\",\"Three\",\"Four\",\"Five\"]\n",
    "\n",
    "#writing to the file\n",
    "f=open(\"q8.txt\",\"w\")\n",
    "for i in L:\n",
    "    size=len(i)\n",
    "    f.write(i+\",\")\n",
    "    f.write(str(size)+\"\\n\")\n",
    "f.close()\n",
    "\n",
    "#reading from the file\n",
    "f=open(\"q8.txt\",\"r\")\n",
    "for line in (f.readlines()):\n",
    "    print(line)\n",
    "f.close()"
   ]
  },
  {
   "cell_type": "markdown",
   "id": "a3adc681",
   "metadata": {},
   "source": [
    "Question 9"
   ]
  },
  {
   "cell_type": "code",
   "execution_count": 20,
   "id": "16ea51ca",
   "metadata": {},
   "outputs": [
    {
     "name": "stdout",
     "output_type": "stream",
     "text": [
      "BZBFJKNSTiipX\n",
      "\n",
      "YzyqbjIaHyDbaE\n",
      "\n",
      "XgwISpzRnzhBu\n",
      "\n",
      "oymNMzNgrCpm\n",
      "\n",
      "dBUxXYdZxSG\n",
      "\n",
      "rBaTxolOTIKAf\n",
      "\n",
      "BGWnKZnfDHQTEC\n",
      "\n",
      "vtezGBKTjKYQ\n",
      "\n",
      "GjJxBjRyQrJ\n",
      "\n",
      "vcpfjSZgieYFMj\n",
      "\n",
      "YSXDRNdPvbApD\n",
      "\n",
      "rnoJsVlxrBHVn\n",
      "\n",
      "vEjieTsKrXKrC\n",
      "\n",
      "ekFmXjktbuxQic\n",
      "\n",
      "ZoxcxPRBeK\n",
      "\n",
      "vHhNRIRBBAd\n",
      "\n",
      "QxVHFIXrCWz\n",
      "\n",
      "xiHgmYTxlPh\n",
      "\n",
      "pGiMUNbEbXW\n",
      "\n",
      "lWbqKpPmdBx\n",
      "\n",
      "zoQgTnLiBzyqO\n",
      "\n",
      "VztbjFowiIHkL\n",
      "\n",
      "YbbcDmDItQ\n",
      "\n",
      "kmUltfttca\n",
      "\n",
      "wZTfRhEPpgx\n",
      "\n",
      "ZqVASnfuhENV\n",
      "\n",
      "rxgHNDtMLYU\n",
      "\n",
      "cAgcFQOtaj\n",
      "\n",
      "AEmTvhhrZqCi\n",
      "\n",
      "HyxakeGUDzhD\n",
      "\n",
      "UWeUmrWeBPe\n",
      "\n",
      "fgREMqdzyb\n",
      "\n",
      "AUQvqUzMFz\n",
      "\n",
      "mEYIIsbugMnW\n",
      "\n",
      "RJxoHOutfTZ\n",
      "\n",
      "XfyxkJbbGOc\n",
      "\n",
      "urqIOmsfrWCUQC\n",
      "\n",
      "UOOHzncfzqUwR\n",
      "\n",
      "daVinAdsGTrJtB\n",
      "\n",
      "UMSuEqlUhxbm\n",
      "\n",
      "DnTArpRJWdoL\n",
      "\n",
      "xNRYKFYKTF\n",
      "\n",
      "AWvIsMSMNxSp\n",
      "\n",
      "WiHEFSWNqljoSo\n",
      "\n",
      "gbYmdtkryqGlK\n",
      "\n",
      "gZzfMHfOFC\n",
      "\n",
      "uIEZSugPmT\n",
      "\n",
      "sVUNgvCqvrAVja\n",
      "\n",
      "eTNidknbhVJfl\n",
      "\n",
      "IrQrQvfvZT\n",
      "\n",
      "kpvNMQOZiIcF\n",
      "\n",
      "kaDYfPKVskk\n",
      "\n",
      "WnUYuOZCayKhz\n",
      "\n",
      "XaSqNVYemnjG\n",
      "\n",
      "YiSHWxdRvXs\n",
      "\n",
      "naWZYDopOCi\n",
      "\n",
      "kwgiwJNLLlEF\n",
      "\n",
      "AHjyuozQuJHqO\n",
      "\n",
      "gEkbbKWDZF\n",
      "\n",
      "YtqHfEBLrL\n",
      "\n",
      "vSbKSneHVXHqjo\n",
      "\n",
      "iFBxukxzEviha\n",
      "\n",
      "ahQWvcpdMOMGZk\n",
      "\n",
      "UTMRzuItpC\n",
      "\n",
      "BqMkJsSBblHz\n",
      "\n",
      "ghLaxuZlnKbSX\n",
      "\n",
      "tQjelmEMAtdSL\n",
      "\n",
      "UOYCViejtfODm\n",
      "\n",
      "PsVeYFwspfWkMK\n",
      "\n",
      "ORWQblWvKgO\n",
      "\n",
      "zsrDlwztSd\n",
      "\n",
      "DioxRHkwzy\n",
      "\n",
      "LQpnxCpawB\n",
      "\n",
      "jwGuKywpRKmDjz\n",
      "\n",
      "IrNyUzzfaFg\n",
      "\n",
      "npMWpCVWslqt\n",
      "\n",
      "lYxoymNfeyzMGy\n",
      "\n",
      "CrustUGTJRrkzI\n",
      "\n",
      "ZBgTgQHPhEDCro\n",
      "\n",
      "hjjyEYTnUw\n",
      "\n",
      "trCPhGbyogaCp\n",
      "\n",
      "JYGUaTrJqoJPW\n",
      "\n",
      "lvTxwJWMxEWq\n",
      "\n",
      "SPmiioOpfgBKz\n",
      "\n",
      "JOhexdXGnLxY\n",
      "\n",
      "GVSnsxhxmxVEH\n",
      "\n",
      "DqZSKcTucLfd\n",
      "\n",
      "PUNxrnOvlo\n",
      "\n",
      "zyJQBmfanAW\n",
      "\n",
      "GyUdxDDgFwDC\n",
      "\n",
      "pVFkheOVKHP\n",
      "\n",
      "grtUpPwcvI\n",
      "\n",
      "wAKDHrpblfoKDS\n",
      "\n",
      "NnBGdAYsEeu\n",
      "\n",
      "RfebJoJddX\n",
      "\n",
      "VTGhaJmNSWZv\n",
      "\n",
      "tCeyBgjTgWJ\n",
      "\n",
      "onYMfZlpNbeOgY\n",
      "\n",
      "gigMWSNLSY\n",
      "\n",
      "yvJlCgGNMckf\n",
      "\n"
     ]
    }
   ],
   "source": [
    "import string\n",
    "import random\n",
    "\n",
    "f=open(\"question_9.txt\",\"w\")\n",
    "\n",
    "# Random Strings Generation\n",
    "for i in range (100):\n",
    "    N=random.randrange(10,15)\n",
    "    res = ''.join(random.choices(string.ascii_letters, k=N))\n",
    "    f.write(res+\"\\n\")\n",
    "f.close()\n",
    "\n",
    "#Reading the content:\n",
    "f=open(\"question_9.txt\",\"r\")\n",
    "for line in (f.readlines()):\n",
    "    print(line)\n",
    "f.close()"
   ]
  },
  {
   "cell_type": "code",
   "execution_count": 11,
   "id": "24568cf1",
   "metadata": {},
   "outputs": [],
   "source": [
    "# Question 10\n",
    "def primee(num):\n",
    "    if num < 2:\n",
    "        return False\n",
    "    for i in range(2, int(num ** 0.5) + 1):\n",
    "        if num % i == 0:\n",
    "            return False\n",
    "    return True\n",
    "\n",
    "start = 600\n",
    "end = 800\n",
    "\n",
    "with open(\"question_10.txt\", \"w\") as file:\n",
    "    for num in range(start, end + 1):\n",
    "        if primee(num):\n",
    "            file.write(f\"{num}\\n\")"
   ]
  },
  {
   "cell_type": "code",
   "execution_count": 7,
   "id": "587f333b",
   "metadata": {},
   "outputs": [
    {
     "name": "stdout",
     "output_type": "stream",
     "text": [
      "0\n",
      "1\n",
      "2\n",
      "3\n",
      "4\n",
      "5\n",
      "6\n",
      "7\n",
      "8\n",
      "9\n",
      "Time taken: 0.00000 seconds\n"
     ]
    }
   ],
   "source": [
    "# Question 11\n",
    "import time\n",
    "def Time():\n",
    "    start = time.time() \n",
    "    for i in range(10):\n",
    "        print(i)\n",
    "\n",
    "    end = time.time()\n",
    "    elap = end - start\n",
    "    return elap\n",
    "TT = Time()\n",
    "print(f\"Time taken: {TT:.5f} seconds\")"
   ]
  },
  {
   "cell_type": "markdown",
   "id": "bd1466f8",
   "metadata": {},
   "source": [
    "Question 12"
   ]
  },
  {
   "cell_type": "code",
   "execution_count": 25,
   "id": "263fd635",
   "metadata": {},
   "outputs": [
    {
     "data": {
      "image/png": "[encoded data removed]",
      "text/plain": [
       "<Figure size 640x480 with 1 Axes>"
      ]
     },
     "metadata": {},
     "output_type": "display_data"
    }
   ],
   "source": [
    "import time\n",
    "import matplotlib.pyplot as plt\n",
    "\n",
    "def sort_list_time(elements):\n",
    "    # Generate a list with random elements (for simplicity, we use a range of integers)\n",
    "    data_list = list(range(elements))\n",
    "\n",
    "    # Record start time\n",
    "    start_time = time.time()\n",
    "\n",
    "    # Sort the list\n",
    "    sorted_list = sorted(data_list)\n",
    "\n",
    "    # Record end time and calculate time taken\n",
    "    end_time = time.time()\n",
    "    time_taken = end_time - start_time\n",
    "    return time_taken\n",
    "\n",
    "# Number of elements in the list\n",
    "elements_list = [5000, 10000, 15000, 20000, 25000]\n",
    "\n",
    "# Measure the time taken for each list size\n",
    "time_taken_list = []\n",
    "for elements in elements_list:\n",
    "    time_taken_list.append(sort_list_time(elements))\n",
    "\n",
    "# Plot the graph\n",
    "plt.plot(elements_list, time_taken_list, marker='o')\n",
    "plt.xlabel('Number of Elements in the List')\n",
    "plt.ylabel('Time Taken (seconds)')\n",
    "plt.title('Sorting Time vs. List Size')\n",
    "plt.grid(True)\n",
    "plt.show()"
   ]
  },
  {
   "cell_type": "markdown",
   "id": "93c1dfaf",
   "metadata": {},
   "source": [
    "Question 13"
   ]
  },
  {
   "cell_type": "code",
   "execution_count": 24,
   "id": "71ebb2e9",
   "metadata": {},
   "outputs": [
    {
     "name": "stdout",
     "output_type": "stream",
     "text": [
      "The original dictionary is:  {'Student1': [53, 87, 56, 69, 77], 'Student2': [97, 83, 91, 78, 88], 'Student3': [41, 56, 49, 65, 52], 'Student4': [69, 78, 91, 66, 75], 'Student5': [35, 42, 47, 51, 47]}\n",
      "Student2 has the maximum average marks =  87.4\n",
      "Student5 has the minimum average marks =  44.4\n"
     ]
    }
   ],
   "source": [
    "#function to compute the average score of each student \n",
    "def solve(D):\n",
    "    avg_scores = dict()\n",
    "    for name in d:\n",
    "      avg_scores[name] = sum(d[name])/len(d[name])\n",
    "    return avg_scores\n",
    "\n",
    "#creating a dictionary\n",
    "D={'auchitya':[53,87,56,69,77],'Kunal':[97,83,91,78,88],'Anishka':[41,56,49,65,52],'Anurag':[69,78,91,66,75],'parth':[35,42,47,51,47]}\n",
    "print(\"The original dictionary is: \",d)\n",
    "d2=solve(d)\n",
    "\n",
    "#finding the maximum and minimum average marks\n",
    "max_val=max(d2.values())\n",
    "min_val=min(d2.values())\n",
    "\n",
    "#displaying the students having maximum and minimum average marks\n",
    "for key,value in d2.items():\n",
    "   if (value==max_val):\n",
    "      print(key,\"has the maximum average marks = \",max_val)\n",
    "   if (value==min_val):\n",
    "      print(key,\"has the minimum average marks = \",min_val)"
   ]
  },
  {
   "cell_type": "code",
   "execution_count": null,
   "id": "bbab28dd",
   "metadata": {},
   "outputs": [],
   "source": []
  }
 ],
 "metadata": {
  "kernelspec": {
   "display_name": "Python 3 (ipykernel)",
   "language": "python",
   "name": "python3"
  },
  "language_info": {
   "codemirror_mode": {
    "name": "ipython",
    "version": 3
   },
   "file_extension": ".py",
   "mimetype": "text/x-python",
   "name": "python",
   "nbconvert_exporter": "python",
   "pygments_lexer": "ipython3",
   "version": "3.9.6"
  }
 },
 "nbformat": 4,
 "nbformat_minor": 5
}
